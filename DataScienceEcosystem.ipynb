{
 "cells": [
  {
   "cell_type": "markdown",
   "id": "77029975-015a-42a4-a975-a6675ed677ed",
   "metadata": {},
   "source": [
    "# Data Science Tools and Ecosystem"
   ]
  },
  {
   "cell_type": "markdown",
   "id": "80bb53b5-12b0-49cd-b41b-4d428d841978",
   "metadata": {},
   "source": [
    "In this notebook, Data Science tools and Ecosystem are summarized"
   ]
  },
  {
   "cell_type": "markdown",
   "id": "87e19f85-8fb2-4ab3-9395-d365b0f51f1d",
   "metadata": {},
   "source": [
    "Some of the commonly used languages that Data Scientist use are:\n",
    "1. Python\n",
    "2. R programming\n",
    "3. Java"
   ]
  },
  {
   "cell_type": "markdown",
   "id": "95b0fced-db89-4847-aa9d-c41214f01495",
   "metadata": {},
   "source": [
    "Some of the commonly used libraries used by Data Scientist include:\n",
    "1. Pandas\n",
    "2. Numpy\n",
    "3. Matplotlib\n",
    "4. scikit-learn\n",
    "5. Seaborn"
   ]
  },
  {
   "cell_type": "markdown",
   "id": "b04c77ee-a895-4d35-80c9-5214e1dddb7c",
   "metadata": {},
   "source": [
    "|Data Science Tools|\n",
    "|------------------|\n",
    "|Jupyter Notebook|\n",
    "|Rstudio|\n",
    "|MySQL|"
   ]
  },
  {
   "cell_type": "markdown",
   "id": "8c87065c-9b25-448b-8dc2-f686c018a69e",
   "metadata": {},
   "source": [
    "### Below are a few examples of evaluating arithmetic expression in Python"
   ]
  },
  {
   "cell_type": "code",
   "execution_count": 18,
   "id": "0d3678d3-0fc0-4b75-990c-31e27fd8d309",
   "metadata": {},
   "outputs": [
    {
     "data": {
      "text/plain": [
       "17"
      ]
     },
     "execution_count": 18,
     "metadata": {},
     "output_type": "execute_result"
    }
   ],
   "source": [
    "# This a simple arithmetic epression to multiply then add integers\n",
    "(3*4)+5"
   ]
  },
  {
   "cell_type": "code",
   "execution_count": 20,
   "id": "5043460c-5bbf-4d93-9e62-fdeadd6dea25",
   "metadata": {},
   "outputs": [
    {
     "data": {
      "text/plain": [
       "3.3333333333333335"
      ]
     },
     "execution_count": 20,
     "metadata": {},
     "output_type": "execute_result"
    }
   ],
   "source": [
    "# This will convert 200 minutes to hours by dividing by 60\n",
    "200/60"
   ]
  },
  {
   "cell_type": "markdown",
   "id": "19ec41b5-f407-4348-b7a0-14991f4b21ac",
   "metadata": {},
   "source": [
    "**OBJECTIVIES**\n",
    "1. Listed popular languages for Data Science\n",
    "2. Listed popular tools for Data Science\n",
    "3. Listed popular libraries used by Data Scientists"
   ]
  },
  {
   "cell_type": "markdown",
   "id": "57524faf-a81b-425f-ad1a-df23d1c1650c",
   "metadata": {},
   "source": [
    "## Author\n",
    "Aby Joe Jose"
   ]
  }
 ],
 "metadata": {
  "kernelspec": {
   "display_name": "Python 3 (ipykernel)",
   "language": "python",
   "name": "python3"
  },
  "language_info": {
   "codemirror_mode": {
    "name": "ipython",
    "version": 3
   },
   "file_extension": ".py",
   "mimetype": "text/x-python",
   "name": "python",
   "nbconvert_exporter": "python",
   "pygments_lexer": "ipython3",
   "version": "3.12.7"
  }
 },
 "nbformat": 4,
 "nbformat_minor": 5
}
